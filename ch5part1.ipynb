{
  "cells": [
    {
      "cell_type": "markdown",
      "metadata": {
        "id": "lsRFw8y1YjGH"
      },
      "source": [
        "<style>\n",
        "\th1 {\n",
        "\t--\tbackground-color: grey;\n",
        "\t\tcolor: yellow\n",
        "\t\tborder: 3px solid grey\n",
        "\n",
        "\t}\n",
        "\tp {\n",
        "\t\tbackground-color: grey;\n",
        "\t\tcolor: white\n",
        "\t\tborder: 3px solid grey\n",
        "\n",
        "\t}\n",
        "</style>\n",
        "<h1> Chapter 5 Functions: Part 1</h1>"
      ]
    },
    {
      "cell_type": "markdown",
      "metadata": {
        "id": "G4loXaDXYjGI"
      },
      "source": [
        "<p style=\"margin-left:40px\">1. 5.1 Introduction to Functions</p>\n",
        "\n",
        "<p style=\"margin-left:40px\">2. 5.2 Defining and Calling a Void Function</p>\n",
        "\n",
        "<p style=\"margin-left:40px\">3. 5.3 Designing a Program to Use Functions</p>\n",
        "\n",
        "<p style=\"margin-left:40px\">4. 5.4 <mark> Local Variables </mark></p>\n",
        "\n",
        "<p style=\"margin-left:40px\">5. 5.5 <mark> Passing Arguments to Functions </mark></p>\n",
        "\n",
        "<p style=\"margin-left:40px\">6. 5.6 Global Variables and Global Constants</p>\n",
        "\n",
        "<p style=\"margin-left:40px\">7. 5.7 Introduction to <mark>Value-Returning Functions </mark>: Generating Random Numbers</p>\n",
        "\n",
        "<p style=\"margin-left:40px\">8. 5.8 Writing Your Own Value-Returning Functions</p>\n",
        "\n",
        "<p style=\"margin-left:40px\">9. 5.9 The math Module</p>\n",
        "\n",
        "<p style=\"margin-left:40px\">10. 5.10 <mark> Storing Functions in Modules <mark> </p>\n",
        "\n",
        "<p style=\"margin-left:40px\">11. 5.11 Turtle Graphics: Modularizing Code with Functions</p>\n"
      ]
    },
    {
      "cell_type": "markdown",
      "metadata": {
        "id": "-KAC-jSwYjGJ"
      },
      "source": [
        "***\n",
        "\n",
        "## <p style=\"background-color: grey; color: white \"> ◼️  functions </p>\n",
        "# <p style=\"font-family: Arial; font-size:1.4em;color:red;\"> 1. Basic Examples of Functions</p>\n"
      ]
    },
    {
      "cell_type": "markdown",
      "metadata": {
        "id": "R7M8S0VGYjGJ"
      },
      "source": [
        "<style>\n",
        "\th3{\n",
        "\t\tbackground-color: grey\n",
        "\t\tcolor: white\n",
        "\t}\n",
        "</style>\n",
        "\n",
        "<h3> First example of function </h3>\n",
        "\n",
        "- Run all the following code cells and check out the result of code segments"
      ]
    },
    {
      "cell_type": "markdown",
      "metadata": {
        "id": "ALgePiK0YjGJ"
      },
      "source": [
        "#### <p style=\"font-family: Arial; font-size:1.4em; background-color: yellow; color:black;\"> Problem #1.0 </p>\n",
        "\n",
        "#### Run all the cells and figure out the basic usage of while loop structure"
      ]
    },
    {
      "cell_type": "code",
      "execution_count": 1,
      "metadata": {
        "id": "SUZ9k0J6YjGJ"
      },
      "outputs": [],
      "source": [
        "def fn():\n",
        "\treturn\n",
        "\n",
        "if __name__ == '__main__':\n",
        "\tfn( )\n",
        "\n"
      ]
    },
    {
      "cell_type": "code",
      "execution_count": null,
      "metadata": {
        "id": "kYF8txp2YjGK"
      },
      "outputs": [],
      "source": [
        "# Function to return 0 or 1\n",
        "# if the number is even, return 0, otherwise 1\n",
        "#  checknum ( )\n",
        "\n",
        "def checknum(n):\n",
        "\tif n%2 == 0:\n",
        "\t\treturn 0\n",
        "\telse:\n",
        "\t\treturn 1\n",
        "\n",
        "userinput = int(input())\n",
        "retval = checknum(userinput)\n",
        "\n",
        "\n"
      ]
    },
    {
      "cell_type": "code",
      "execution_count": null,
      "metadata": {
        "id": "CR6TGjAxYjGK"
      },
      "outputs": [],
      "source": [
        "def printlst(l):\n",
        "\taverage = sum(l) / len(l)\n",
        "\tfor v in l:\n",
        "\t\tif ( average > v):\n",
        "\t\t\tprint(l)\n",
        "\n",
        "lst = [1,2,3,4,5,6,7]\n",
        "printlst(lst) # print all numbers less than avg\n",
        "print (lst)\n"
      ]
    },
    {
      "cell_type": "code",
      "execution_count": null,
      "metadata": {
        "id": "tMw135L0YjGL",
        "outputId": "538e7251-f69e-4f0c-c65a-e6ab95ef631a"
      },
      "outputs": [
        {
          "name": "stdout",
          "output_type": "stream",
          "text": [
            "3\n"
          ]
        }
      ],
      "source": [
        "\n",
        "def \tgetinput():\n",
        "\tval = int(input())\n",
        "\treturn val\n",
        "\n",
        "userval = getinput()\n",
        "print (userval)\n",
        "\n",
        "\n"
      ]
    },
    {
      "cell_type": "markdown",
      "metadata": {
        "id": "fW92xmITYjGL"
      },
      "source": [
        "### How are the functions called?  \n",
        "#### Compare the below two code segments"
      ]
    },
    {
      "cell_type": "code",
      "execution_count": null,
      "metadata": {
        "id": "jXjktxQiYjGM",
        "outputId": "ea5d7f99-c685-4fa1-ba6c-891bf43241a4"
      },
      "outputs": [
        {
          "name": "stdout",
          "output_type": "stream",
          "text": [
            "1\n"
          ]
        }
      ],
      "source": [
        "def \tgetinput():\n",
        "\tval = int(input())\n",
        "\treturn val\n",
        "\n",
        "def \tmain():\n",
        "\tuserval = getinput()\n",
        "\tprint (userval)\n",
        "\n",
        "\n",
        "if __name__ == '__main__':\n",
        "\tmain()\n",
        "\n"
      ]
    },
    {
      "cell_type": "code",
      "execution_count": null,
      "metadata": {
        "id": "JtRCciwDYjGM"
      },
      "outputs": [],
      "source": [
        "def \tgetinput():\n",
        "\tval = int(input())\n",
        "\treturn val\n",
        "\n",
        "def \tmain():\n",
        "\tuserval = getinput()\n",
        "\tprint (userval)\n"
      ]
    },
    {
      "cell_type": "markdown",
      "metadata": {
        "id": "G8txbdxPYjGM"
      },
      "source": [
        "#### <p style=\"font-family: Arial; font-size:1.4em; background-color: yellow; color:black;\"> Problem #1.1 </p>\n",
        "\n",
        "####  Edit the above code cell to run main() function\n",
        "\n",
        "```\n",
        "def \tgetinput():\n",
        "\tval = int(input())\n",
        "\treturn val\n",
        "\n",
        "def \tmain():\n",
        "\tuserval = getinput()\n",
        "\tprint (userval)\n",
        "```"
      ]
    },
    {
      "cell_type": "code",
      "execution_count": null,
      "metadata": {
        "id": "0K8Kth7MYjGM"
      },
      "outputs": [],
      "source": [
        "# complete the code to run the main function\n"
      ]
    },
    {
      "cell_type": "markdown",
      "metadata": {
        "id": "FAmNcWBiYjGM"
      },
      "source": [
        "#### <p style=\"font-family: Arial; font-size:1.4em; background-color: yellow; color:black;\"> Problem #1.2 </p>\n",
        "\n",
        "####  Check out this code. This code is working without main() function.\n",
        "#### Explain how this code is working properly without main() function\n",
        "\n",
        "```\n",
        "def \tgetinput():\n",
        "\tval = int(input())\n",
        "\treturn val\n",
        "\n",
        "userval = getinput()\n",
        "print (userval)\n",
        "```"
      ]
    },
    {
      "cell_type": "code",
      "execution_count": null,
      "metadata": {
        "id": "YPaBKrxgYjGN",
        "outputId": "4a8bc43e-bf9b-40b9-e513-3ce4e3408e48"
      },
      "outputs": [
        {
          "name": "stdout",
          "output_type": "stream",
          "text": [
            "1\n"
          ]
        }
      ],
      "source": [
        "def \tgetinput():\n",
        "\tval = int(input())\n",
        "\treturn val\n",
        "\n",
        "userval = getinput()\n",
        "print (userval)\n"
      ]
    },
    {
      "cell_type": "markdown",
      "metadata": {
        "id": "Up9XQP3rYjGN"
      },
      "source": [
        "## Don't forget to <font color='red'> **\"commit\"** </font> your work or <font color='red'> **\"save\"** </font> in Google Colab\n",
        "## before moving to the next section."
      ]
    },
    {
      "cell_type": "markdown",
      "metadata": {
        "id": "nfZHnkV_YjGN"
      },
      "source": [
        "***\n",
        "\n",
        "## <p style=\"background-color: grey; color: white \"> ◼️  Local Variables </p>\n",
        "# <p style=\"font-family: Arial; font-size:1.4em;color:red;\"> 2. Local Variables </p>\n"
      ]
    },
    {
      "cell_type": "markdown",
      "metadata": {
        "id": "7D3X2ND8YjGN"
      },
      "source": [
        "### Check out the variable \"userval\" after the function call \"getinput()\""
      ]
    },
    {
      "cell_type": "code",
      "execution_count": null,
      "metadata": {
        "id": "FI87ry5KYjGN"
      },
      "outputs": [],
      "source": [
        "def \tgetinput():\n",
        "\tval = int(input())\n",
        "\treturn val\n",
        "\n",
        "def \tmain():\n",
        "\tuserval = getinput()\n",
        "\tprint (userval)\n",
        "\t# print (val)\n",
        "\n",
        "if __name__ == '__main__':\n",
        "\tmain()\n",
        "\n"
      ]
    },
    {
      "cell_type": "code",
      "execution_count": null,
      "metadata": {
        "id": "2arPoWvOYjGO"
      },
      "outputs": [],
      "source": [
        "def getsum(n1, n2):\n",
        "\tval = n1 + n2\n",
        "\treturn val\n",
        "\n",
        "def main():\n",
        "\ta = 10; b = 20\n",
        "\tuserval = getsum(a, b)\n",
        "\tprint (userval)\n",
        "\n",
        "if __name__ == '__main__':\n",
        "\tmain()\n"
      ]
    },
    {
      "cell_type": "markdown",
      "metadata": {
        "id": "4qWLf-ivYjGO"
      },
      "source": [
        "<style>\n",
        "\tp {\n",
        "\t\tbackground-color: grey;\n",
        "\t\tcolor: white;\n",
        "\t\tborder: 3px solid grey\n",
        "\n",
        "\t}\n",
        "</style>\n",
        "\n",
        "<p> Making Changes to Parameters </p>\n"
      ]
    },
    {
      "cell_type": "markdown",
      "metadata": {
        "id": "wiRr7tIHYjGO"
      },
      "source": [
        "#### <p style=\"font-family: Arial; font-size:1.4em; background-color: yellow; color:black;\"> Problem #2.1 </p>\n",
        "\n",
        "####  Check out this code. After the function call \"getinput()\" at the line 8 in the main function,  \n",
        "#### show the  values \"a\" and \"b\"\n"
      ]
    },
    {
      "cell_type": "code",
      "execution_count": null,
      "metadata": {
        "id": "s7N4uvlgYjGO"
      },
      "outputs": [],
      "source": [
        "\n",
        "def getinput(n1, n2):\n",
        "\tn1 = input()\n",
        "\tn2 = input()\n",
        "\tprint (\"The value of parameter n1 and n2 are {0} and {1}\".format(n1, n2))\n",
        "\n",
        "def main():\n",
        "\ta = 0; b = 0\n",
        "\tgetinput(a, b)\n",
        "\tprint (\"The value of a and b are {0} and {1}\".format(a, b))\n",
        "\n",
        "if __name__ == '__main__':\n",
        "\tmain()\n"
      ]
    },
    {
      "cell_type": "markdown",
      "metadata": {
        "id": "S_IaA1YSYjGO"
      },
      "source": [
        "### <mark> Explain why both values are 0 </mark>\n",
        "\n",
        "- You can use this markdown box to answer to the question"
      ]
    },
    {
      "cell_type": "markdown",
      "metadata": {
        "id": "pMxqcIW6YjGO"
      },
      "source": [
        "---\n",
        "#### <p style=\"font-family: Arial; font-size:1.4em; background-color: yellow; color:black;\"> Problem #2.2 </p>\n",
        "\n",
        "####  Check out this code. After the function call \"getinput()\" in the main function,  \n",
        "#### show the  values \"list1\". Explain the result.\n",
        "### In problem 2.1, there were no changes even though the values were altered in the function getinput().\n",
        "### In this code, when you assign the values to the list \"l1\", these changes affect to the main function.\n"
      ]
    },
    {
      "cell_type": "markdown",
      "metadata": {
        "id": "QRyk5nenYjGR"
      },
      "source": [
        "<style>\n",
        "\tp {\n",
        "\t\tbackground-color: grey;\n",
        "\t\tcolor: white;\n",
        "\t\tborder: 3px solid grey\n",
        "\n",
        "\t}\n",
        "</style>\n",
        "\n",
        "<p> Making Changes to Parameters 2 </p>\n"
      ]
    },
    {
      "cell_type": "code",
      "execution_count": null,
      "metadata": {
        "id": "cWKmpVoLYjGR"
      },
      "outputs": [],
      "source": [
        "\n",
        "def getinput(l1):\n",
        "\tl1.append(input())\n",
        "\tl1.append(input())\n",
        "\tl1.append(input())\n",
        "\tprint (\"The value of parameter l1 \", l1)\n",
        "\n",
        "def main():\n",
        "\tlist1 = []\n",
        "\tgetinput(list1)\n",
        "\tprint (\"The value of list1\", list1);\n",
        "\n",
        "if __name__ == '__main__':\n",
        "\tmain()\n"
      ]
    },
    {
      "cell_type": "markdown",
      "metadata": {
        "id": "ckYqHfgWYjGS"
      },
      "source": [
        "## Answer the question 2.2 here\n",
        "- You can use Markdown syntax to make the MarkDown Text"
      ]
    },
    {
      "cell_type": "markdown",
      "metadata": {
        "id": "65rIozDBYjGS"
      },
      "source": [
        "---\n",
        "#### <p style=\"font-family: Arial; font-size:1.4em; background-color: yellow; color:black;\"> Problem #2.3 </p>\n",
        "\n",
        "####  Check out this code.\n",
        "####  Can we return multiple values in the function?\n"
      ]
    },
    {
      "cell_type": "markdown",
      "metadata": {
        "id": "-0MUuKhCYjGS"
      },
      "source": [
        "<style>\n",
        "\tp {\n",
        "\t\tbackground-color: grey;\n",
        "\t\tcolor: white;\n",
        "\t\tborder: 3px solid grey\n",
        "\n",
        "\t}\n",
        "</style>\n",
        "\n",
        "<p> Returning multiple values</p>\n"
      ]
    },
    {
      "cell_type": "code",
      "execution_count": null,
      "metadata": {
        "id": "RIHpS922YjGS"
      },
      "outputs": [],
      "source": [
        "\n",
        "def getinput():\n",
        "\tval1 = input()\n",
        "\tval2 = input()\n",
        "\treturn val1, val2\n",
        "\n",
        "def main():\n",
        "\tnum1, num2 = getinput()\n",
        "\tprint (\"The value of num1 and num2 are {0} and {1}\".format(num1, num2))\n",
        "\n",
        "if __name__ == '__main__':\n",
        "\tmain()\n"
      ]
    },
    {
      "cell_type": "markdown",
      "metadata": {
        "id": "DUpdAUClYjGS"
      },
      "source": [
        "## Answer the question 2.3 here\n",
        "- You can use Markdown syntax to make the MarkDown Text"
      ]
    },
    {
      "cell_type": "markdown",
      "metadata": {
        "id": "-V8lByYaYjGS"
      },
      "source": [
        "---\n",
        "#### <p style=\"font-family: Arial; font-size:1.4em; background-color: yellow; color:black;\"> Problem #2.4 </p>\n",
        "\n",
        "####  Print the local variable that was used in the function getsum() in the main() function.\n",
        "####  Can we print the same value ? Errors? Why?\n",
        "#### Suggest how we can print the 'total' of the function getsum() in the main()\n"
      ]
    },
    {
      "cell_type": "code",
      "execution_count": null,
      "metadata": {
        "id": "8JjK3U4bYjGT"
      },
      "outputs": [],
      "source": [
        "def getsum(n1, n2):\n",
        "    total = n1 + n2\n",
        "    print(f'Total is {total}')\n",
        "\n",
        "def main():\n",
        "    total = 0\n",
        "    num1 = 10\n",
        "    num2 = 20\n",
        "    getsum(num1, num2)\n",
        "    print(f'Total is {total}')\n",
        "\n",
        "if __name__ == '__main__':\n",
        "    main()"
      ]
    },
    {
      "cell_type": "markdown",
      "metadata": {
        "id": "7SWrZF6nYjGT"
      },
      "source": [
        "## Answer the question 2.4 here\n",
        "- You can use Markdown syntax to make the MarkDown Text"
      ]
    },
    {
      "cell_type": "markdown",
      "metadata": {
        "id": "BkdYrj0ZYjGT"
      },
      "source": [
        "---\n",
        "## Don't forget to <font color='red'> **\"commit\"** </font> your work or <font color='red'> **\"save\"** </font> in Google Colab\n",
        "## before moving to the next section."
      ]
    },
    {
      "cell_type": "markdown",
      "metadata": {
        "id": "rp8Oi08EYjGT"
      },
      "source": [
        "<style>\n",
        "\tp {\n",
        "\t\tbackground-color: grey;\n",
        "\t\tcolor: white;\n",
        "\t\tborder: 3px solid grey\n",
        "\n",
        "\t}\n",
        "</style>\n",
        "\n",
        "<p> Keyword Arguments </p>\n"
      ]
    },
    {
      "cell_type": "markdown",
      "metadata": {
        "id": "7V63uqlKYjGT"
      },
      "source": [
        "***\n",
        "## <p style=\"background-color: grey; color: white \"> ◼️  Keyworded Arguments </p>\n",
        "# <p style=\"font-family: Arial; font-size:1.4em;color:red;\"> 3. Keyworded Arguments</p>\n"
      ]
    },
    {
      "cell_type": "markdown",
      "metadata": {
        "id": "XASpVwidYjGX"
      },
      "source": [
        "#### The parameter order can be changed if the keyworded arguments are used"
      ]
    },
    {
      "cell_type": "code",
      "execution_count": null,
      "metadata": {
        "id": "JgTK7e3uYjGY"
      },
      "outputs": [],
      "source": [
        "\n",
        "def getsum(n1, n2):\n",
        "\tprint (f'The first parameter n1 is {n1}')\n",
        "\tprint (f'The second parameter n2 is {n2}')\n",
        "\ttotal = n1 + n2\n",
        "\tprint (f'The total is {total}')\n",
        "\treturn total\n",
        "\n",
        "def main():\n",
        "\ttotal = getsum(n2=100, n1=200)\t# giving the second parameter first\n",
        "\tprint (f'The value of total is {total}')\n",
        "\n",
        "if __name__ == '__main__':\n",
        "\tmain()"
      ]
    },
    {
      "cell_type": "markdown",
      "metadata": {
        "id": "FZ3TLqtPYjGY"
      },
      "source": [
        "#### <p style=\"font-family: Arial; font-size:1.4em; background-color: yellow; color:black;\"> Problem #3.1 </p>\n",
        "\n",
        "### The function setListValues() will work to make the mylst that has the values 100, 200 and 300\n",
        "####  Complete the function call to make the list as following\n",
        "```\n",
        "mylst = [100, 200, 300]\n"
      ]
    },
    {
      "cell_type": "code",
      "execution_count": null,
      "metadata": {
        "id": "2Ug4kH2FYjGY"
      },
      "outputs": [],
      "source": [
        "def setListValues(first_element, second_element, third_element):\n",
        "    mylst=[]\n",
        "    mylst.append(first_element)\n",
        "    mylst.append(second_element)\n",
        "    mylst.append(third_element)\n",
        "\n",
        "def main():\n",
        "    setListValues(third_element= #complete value,\n",
        "                  second_element= # complete value,\n",
        "                  first_element= # complete value )\n",
        "            )\n",
        "    print(mylst)\n",
        "\n",
        "if __name__ == '__main__':\n",
        "    main()\n",
        ""
      ]
    },
    {
      "cell_type": "markdown",
      "metadata": {
        "id": "s_OfkEIAYjGY"
      },
      "source": [
        "### Follow up Question\n",
        "\n",
        "### Is the list \"mylst\" in function \"setListValues()\" as the one in \"main\"?\n",
        "----"
      ]
    },
    {
      "cell_type": "markdown",
      "metadata": {
        "id": "rU9oOXfiYjGY"
      },
      "source": [
        "### Your Answer :\n",
        "---"
      ]
    },
    {
      "cell_type": "markdown",
      "metadata": {
        "id": "bki49f4VYjGZ"
      },
      "source": [
        "## Don't forget to <font color='red'> **\"commit\"** </font> your work or <font color='red'> **\"save\"** </font> in Google Colab\n",
        "## before moving to the next section."
      ]
    },
    {
      "cell_type": "markdown",
      "metadata": {
        "id": "t0nc2ZvMYjGZ"
      },
      "source": [
        "***\n",
        "## <p style=\"background-color: grey; color: white \"> ◼️  Global Variables </p>\n",
        "# <p style=\"font-family: Arial; font-size:1.4em;color:red;\"> 4. Global Variables</p>\n"
      ]
    },
    {
      "cell_type": "markdown",
      "metadata": {
        "id": "Ee-OqmrdYjGZ"
      },
      "source": [
        "<style>\n",
        "\tp {\n",
        "\t\tbackground-color: grey;\n",
        "\t\tcolor: white;\n",
        "\t\tborder: 3px solid grey\n",
        "\n",
        "\t}\n",
        "</style>\n",
        "\n",
        "<p> Global Variables </p>\n",
        "\n",
        "Run the below code and check out the values <mark> gvar </mark>\n"
      ]
    },
    {
      "cell_type": "code",
      "execution_count": null,
      "metadata": {
        "id": "BgaSXD5GYjGZ"
      },
      "outputs": [],
      "source": [
        "gvar = 100\n",
        "\n",
        "def myfunction1():\n",
        "\tprint ('Inside the function ', gvar)\n",
        "\n",
        "\n",
        "def main():\n",
        "\tglobal gvar\n",
        "\tprint ('Before call myfunction1 ', gvar)\n",
        "\tgvar += 11\n",
        "\n",
        "\tmyfunction1()\n",
        "\tprint ('After call myfunction1 ', gvar)\n",
        "\n",
        "if __name__ == '__main__':\n",
        "\tmain()"
      ]
    },
    {
      "cell_type": "markdown",
      "metadata": {
        "id": "aVcgNjeRYjGZ"
      },
      "source": [
        "#### <p style=\"font-family: Arial; font-size:1.4em; background-color: yellow; color:black;\"> Problem #4.1 </p>\n",
        "\n",
        "####  Explain the printed the value of \"gvar\"  \n"
      ]
    },
    {
      "cell_type": "code",
      "execution_count": null,
      "metadata": {
        "id": "z-NfwY6uYjGZ",
        "outputId": "f8dce574-c11e-4aa3-8be8-2f92bbbe3df7"
      },
      "outputs": [
        {
          "name": "stdout",
          "output_type": "stream",
          "text": [
            "Before call myfunction1  100\n",
            "After call myfunction1  101\n",
            "After increasing by 1 in main function 102\n"
          ]
        }
      ],
      "source": [
        "gvar = 100\n",
        "\n",
        "def myfunction1():\n",
        "    global gvar\n",
        "    gvar += 1\n",
        "\n",
        "def main():\n",
        "\tglobal gvar\n",
        "\tprint ('Before call myfunction1 ', gvar)\n",
        "\tmyfunction1()\n",
        "\tprint ('After call myfunction1 ', gvar)\n",
        "\tgvar += 1\n",
        "\tprint ('After increasing by 1 in main function', gvar)\n",
        "\n",
        "if __name__ == '__main__':\n",
        "\tmain()"
      ]
    },
    {
      "cell_type": "markdown",
      "metadata": {
        "id": "zEQcQZvqYjGa"
      },
      "source": [
        "#### <p style=\"font-family: Arial; font-size:1.4em; background-color: yellow; color:black;\"> Problem #4.2 </p>\n",
        "\n",
        "####  Explain the printed the value of \"gvar\" is 100 even though it has been increased by 1 in the myfuntion1()\n"
      ]
    },
    {
      "cell_type": "code",
      "execution_count": null,
      "metadata": {
        "id": "qDy3Rwi1YjGa",
        "outputId": "663a5ff1-82f9-446f-fd58-20faad0603be"
      },
      "outputs": [
        {
          "name": "stdout",
          "output_type": "stream",
          "text": [
            "Before call myfunction1  100\n",
            "After call myfunction1  100\n"
          ]
        }
      ],
      "source": [
        "gvar = 100\n",
        "\n",
        "def myfunction1():\n",
        "    gvar = 0\n",
        "    gvar += 1\n",
        "\n",
        "def main():\n",
        "\tglobal gvar\n",
        "\tprint ('Before call myfunction1 ', gvar)\n",
        "\tmyfunction1()\n",
        "\tprint ('After call myfunction1 ', gvar)\n",
        "\n",
        "if __name__ == '__main__':\n",
        "\tmain()"
      ]
    },
    {
      "cell_type": "markdown",
      "metadata": {
        "id": "LFT3ZeV7YjGa"
      },
      "source": [
        "#### <p style=\"font-family: Arial; font-size:1.4em; background-color: yellow; color:black;\"> Problem #4.3 </p>\n",
        "\n",
        "####  Explain why this code encounters error\n",
        "####  Fix the Errors and show the complete code\n"
      ]
    },
    {
      "cell_type": "code",
      "execution_count": null,
      "metadata": {
        "id": "Srm5P_UWYjGa"
      },
      "outputs": [],
      "source": [
        "gvar = 100\n",
        "\n",
        "def myfunction1():\n",
        "    gvar += 1\n",
        "\n",
        "def main():\n",
        "\tglobal gvar\n",
        "\tprint ('Before call myfunction1 ', gvar)\n",
        "\tmyfunction1()\n",
        "\tprint ('After call myfunction1 ', gvar)\n",
        "\n",
        "if __name__ == '__main__':\n",
        "\tmain()"
      ]
    },
    {
      "cell_type": "code",
      "execution_count": null,
      "metadata": {
        "id": "WGUYvnG8YjGb"
      },
      "outputs": [],
      "source": [
        "# Fix the errors and show the complete code here\n"
      ]
    },
    {
      "cell_type": "markdown",
      "metadata": {
        "id": "NfBLRgkgYjGb"
      },
      "source": [
        "## Please <font color='red'> **\"commit\"** </font> your work or <font color='red'> **\"save\"** </font> in Google Colab\n",
        "## before moving to the next section."
      ]
    },
    {
      "cell_type": "markdown",
      "metadata": {
        "id": "_bl8sOoHYjGb"
      },
      "source": [
        "***\n",
        "## <p style=\"background-color: grey; color: white \"> ◼️  Arbitrary Arguments and Keyword Arguments</p>\n",
        "# <p style=\"font-family: Arial; font-size:1.4em;color:red;\"> 5. Arbitrary Arguments and Keyword Arguments</p>\n"
      ]
    },
    {
      "cell_type": "markdown",
      "metadata": {
        "id": "TszaL7gOYjGb"
      },
      "source": [
        "## Arbitrary Argument\n",
        "\n",
        "### An arbitrary argument in Python allows a function to accept an unspecified number of arguments using *args for non-keyword arguments or **kwargs for keyword arguments"
      ]
    },
    {
      "cell_type": "markdown",
      "metadata": {
        "id": "g3OdOrhmYjGb"
      },
      "source": [
        "### Arbitrary Arguments (*args):\n",
        "```\n",
        "* is used to allow a function to accept an arbitrary number of positional arguments.\n",
        "```\n",
        "\n",
        "Basic Example"
      ]
    },
    {
      "cell_type": "code",
      "execution_count": null,
      "metadata": {
        "id": "6S-N3gVlYjGb"
      },
      "outputs": [],
      "source": [
        "def greet(*args):\n",
        "    for name in args:\n",
        "        print(f\"Hello, {name}!\")\n",
        "\n",
        "greet(\"Alice\", \"Bob\", \"Charlie\")\n"
      ]
    },
    {
      "cell_type": "markdown",
      "metadata": {
        "id": "HoSwdlnlYjGc"
      },
      "source": [
        "#### Understanding the function type()"
      ]
    },
    {
      "cell_type": "code",
      "execution_count": null,
      "metadata": {
        "id": "ObYRxqIjYjGc"
      },
      "outputs": [],
      "source": [
        "number = 10\n",
        "type(number)"
      ]
    },
    {
      "cell_type": "markdown",
      "metadata": {
        "id": "xCLb3FbNYjGc"
      },
      "source": [
        "### Check the data type for the arbitrary argument\n"
      ]
    },
    {
      "cell_type": "markdown",
      "metadata": {
        "id": "njQPwRW3YjGc"
      },
      "source": [
        "#### <p style=\"font-family: Arial; font-size:1.4em; background-color: yellow; color:black;\"> Problem #5.1 </p>\n",
        "\n",
        "####  Check the printed data type.  \n",
        "####  Type the printed data type in the below\n"
      ]
    },
    {
      "cell_type": "code",
      "execution_count": null,
      "metadata": {
        "id": "eAQNIjuSYjGc"
      },
      "outputs": [],
      "source": [
        "def myfunction(*values):\n",
        "    print(type(values))\n",
        "    print (values)\n",
        "    for v in values:\n",
        "        print (v, end='\\t')\n",
        "\n",
        "n1 = 10; n2 = 20; n3=30;\n",
        "myfunction(n1, n2, n3)"
      ]
    },
    {
      "cell_type": "markdown",
      "metadata": {
        "id": "rBQKV6V7YjGd"
      },
      "source": [
        "#### <mark> Type your answer here </mark>\n",
        "- What is the data type of values in the function ?"
      ]
    },
    {
      "cell_type": "markdown",
      "metadata": {
        "id": "KGCasUSBYjGd"
      },
      "source": [
        "***\n",
        "#### <p style=\"font-family: Arial; font-size:1.4em; background-color: yellow; color:black;\"> Problem #5.2 </p>\n",
        "\n",
        "####  Check the printed data type.  \n",
        "####  Type the printed data type in the below\n"
      ]
    },
    {
      "cell_type": "code",
      "execution_count": null,
      "metadata": {
        "id": "rdmW-uvXYjGd",
        "outputId": "19fb1e27-e1e9-449a-8608-0948bd85fe1e"
      },
      "outputs": [
        {
          "name": "stdout",
          "output_type": "stream",
          "text": [
            "<class 'list'> It has been printed in the main()\n",
            "<class 'tuple'> It has been printed in the funtion myfuntion()\n",
            "([10, 20, 30],)\n",
            "[10, 20, 30]\t\n"
          ]
        }
      ],
      "source": [
        "def myfunction(*args):\n",
        "    print(type(args), 'It has been printed in the funtion myfuntion()') # type the printed data type in the below cell\n",
        "    print ('The value of args is ', args)\n",
        "    for v in args:\n",
        "        print (v, end='\\t')\n",
        "    print(' ')\n",
        "def main():\n",
        "    values = [10, 20, 30]\n",
        "    print (type(values), 'It has been printed in the main()')    # type the printed data type in the below cell\n",
        "    myfunction(values)\n",
        "\n",
        "if __name__ == '__main__':\n",
        "    main()\n"
      ]
    },
    {
      "cell_type": "markdown",
      "metadata": {
        "id": "vCLswlcsYjGd"
      },
      "source": [
        "#### <mark> Type your answer here </mark>\n",
        "\n",
        "### Are the two printed data types same?\n",
        "\n",
        "- What is the data type printed in main()?\n",
        "- What is the data type printed in myfunction()?\n",
        "- How many elements are there in the tuple \"args\" ?\n",
        "- What is the data type of <mark> element </mark> in the tuple \"args\" ?\n",
        "- How many elements are there in the list \"values\" ?  How many iterations are occured in the for loop of myfuntion()? Why? Explain it."
      ]
    },
    {
      "cell_type": "markdown",
      "metadata": {
        "id": "qrTtxNIuYjGe"
      },
      "source": [
        "***\n",
        "#### <p style=\"font-family: Arial; font-size:1.4em; background-color: yellow; color:black;\"> Problem #5.3 </p>\n",
        "\n",
        "####  Check the printed data type and clarify the difference printed output values between two function calls\n",
        "####  \n"
      ]
    },
    {
      "cell_type": "code",
      "execution_count": null,
      "metadata": {
        "id": "ByWqmZgbYjGe",
        "outputId": "732fda1b-7190-416c-ba45-91d2660a6188"
      },
      "outputs": [
        {
          "name": "stdout",
          "output_type": "stream",
          "text": [
            "<class 'tuple'>\n",
            "([10, 20, 30],)\n",
            "[10, 20, 30]\t\n",
            "<class 'tuple'>\n",
            "(10, 20, 30)\n",
            "10\t20\t30\t\n"
          ]
        }
      ],
      "source": [
        "def myfunction(*values):\n",
        "    print(type(values)) # type the printed data type in the below cell\n",
        "    print (values)\n",
        "    for v in values:\n",
        "        print (v, end='\\t')\n",
        "    print()\n",
        "\n",
        "def main():\n",
        "    values = [10, 20, 30]\n",
        "    myfunction(values)          # It prints (10, 20, 30)    Why ?\n",
        "\n",
        "    val1 = 10 ; val2 = 20; val3 = 30;\n",
        "    myfunction(val1, val2, val3)        # It prints 10 20 30 ; Why?\n",
        "if __name__ == '__main__':\n",
        "    main()\n"
      ]
    },
    {
      "cell_type": "markdown",
      "metadata": {
        "id": "GGQr00nIYjGe"
      },
      "source": [
        "#### <mark> Type your answer here </mark>\n",
        "\n",
        "### Are the two printed data types same?\n",
        "\n",
        "- What is the data type printed in main()?\n",
        "- What is the data type printed in myfunction()?\n",
        "- How many elements are there in the tuple 'values' at each call myfunction() ? How many iterations are occured in the for-loop? why?"
      ]
    },
    {
      "cell_type": "markdown",
      "metadata": {
        "id": "GxuJcFmOYjGe"
      },
      "source": [
        "***\n",
        "#### <p style=\"font-family: Arial; font-size:1.4em; background-color: yellow; color:black;\"> Problem #5.4 </p>\n",
        "\n",
        "####  Clarify the differences between two functions \"myfn1\" and \"myfn2\"\n",
        "####  Answer in the below markdown cell.\n"
      ]
    },
    {
      "cell_type": "code",
      "execution_count": null,
      "metadata": {
        "id": "_kQ9FweMYjGe"
      },
      "outputs": [],
      "source": [
        "def myfn1(*values):\n",
        "    print (type(values))\n",
        "    for v in values:\n",
        "        print (v, end='\\t')\n",
        "\n",
        "def myfn2(values):\n",
        "    print (type(values))\n",
        "    for v in values:\n",
        "        print (v, end='\\t')\n",
        "\n",
        "values = [10, 20, 30]\n",
        "myfn1(values)\n",
        "print()\n",
        "myfn2(values)"
      ]
    },
    {
      "cell_type": "markdown",
      "metadata": {
        "id": "nJwBjkl0YjGe"
      },
      "source": [
        "#### <mark> Type your answer here </mark>\n",
        "\n",
        "### Are the two printed data types same?\n",
        "\n",
        "- Are the printed values are same? If not, why?\n",
        "***"
      ]
    },
    {
      "cell_type": "markdown",
      "metadata": {
        "id": "g9A6ep6tYjGf"
      },
      "source": [
        "## Unpacking Operator:\n",
        "\n",
        "### <mark> * </mark> is used to unpack elements from a list or tuple into separate variables or to pass multiple arguments to a function."
      ]
    },
    {
      "cell_type": "code",
      "execution_count": null,
      "metadata": {
        "id": "pSSfL1kxYjGf"
      },
      "outputs": [],
      "source": [
        "# check out the difference between two print statements\n",
        "numbers = [10, 20, 30]\n",
        "print (numbers)\n",
        "print (*numbers)\n"
      ]
    },
    {
      "cell_type": "markdown",
      "metadata": {
        "id": "hFXi2QFMYjGf"
      },
      "source": [
        "***\n",
        "#### <p style=\"font-family: Arial; font-size:1.4em; background-color: yellow; color:black;\"> Problem #5.5 </p>\n",
        "\n",
        "####  Clarify the differences of the printed output between two functions \"myfn1\" and \"myfn2\"\n",
        "####  Answer in the below markdown cell.\n"
      ]
    },
    {
      "cell_type": "code",
      "execution_count": null,
      "metadata": {
        "id": "2OebE14XYjGf"
      },
      "outputs": [],
      "source": [
        "def myfn1(n1, n2, n3):\n",
        "    print (n1, n2, n3)\n",
        "\n",
        "def myfn2(val):\n",
        "    print (val)\n",
        "    for v in val:\n",
        "        print (v, end=' ')\n",
        "    print()\n",
        "\n",
        "numbers = [10, 20, 30]\n",
        "myfn1(*numbers)\n",
        "myfn2(numbers)"
      ]
    },
    {
      "cell_type": "markdown",
      "metadata": {
        "id": "ZbV8b4CiYjGf"
      },
      "source": [
        "#### <mark> Type your answer here </mark>\n",
        "\n",
        "### Are the two printed output same?\n",
        "\n",
        "- Are the printed values are same? If not, why?  <br>\n",
        "- Is it possible to call function myfn1() ? Clarify your answer<br>  \n",
        "``` myfn1(numbers) ```\n",
        "- Is it possible to call function myfn2() ? Clarify your answer <br>\n",
        "``` myfn2(*numbers) ```\n",
        "\n",
        "***"
      ]
    },
    {
      "cell_type": "markdown",
      "metadata": {
        "id": "yx5-PD4rYjGg"
      },
      "source": [
        "***"
      ]
    },
    {
      "cell_type": "markdown",
      "metadata": {
        "id": "91OmXsxiYjGg"
      },
      "source": [
        "# Keyword Arguments (**args):\n",
        "```\n",
        "* is used to allow a function to accept an arbitrary number of positional arguments.\n",
        "```\n",
        "\n",
        "Basic Example"
      ]
    },
    {
      "cell_type": "markdown",
      "metadata": {
        "id": "3OJmtZhDYjGg"
      },
      "source": [
        "***\n",
        "#### <p style=\"font-family: Arial; font-size:1.4em; background-color: yellow; color:black;\"> Problem #5.5 </p>\n",
        "\n",
        "####  Run the below code cell  \n",
        "####  Answer in the below markdown cell.\n"
      ]
    },
    {
      "cell_type": "markdown",
      "metadata": {
        "id": "_rdi1f7DYjGg"
      },
      "source": [
        "### **kwargs\n",
        "## Run the following code and learn about the keyword argument"
      ]
    },
    {
      "cell_type": "code",
      "execution_count": null,
      "metadata": {
        "id": "3rEoP2MqYjGg"
      },
      "outputs": [],
      "source": [
        "def myFun(**kwargs):\n",
        "\tprint (type(kwargs), 'The type of kwargs')\n",
        "\tprint (isinstance(kwargs, dict), '<--- If this is true, kwargs is a dictionary ')\n",
        "\tfor key, value in kwargs.items():\n",
        "\t\tprint (\"%s -> %s\" %(key, value))\n",
        "\n",
        "\n",
        "myFun(first ='California', mid ='Community', last='College')\n"
      ]
    },
    {
      "cell_type": "markdown",
      "metadata": {
        "id": "AzD-mKR_YjGg"
      },
      "source": [
        "\n",
        "-  What is the type of \"kwargs\" ? <br>\n",
        "-  Is it true \"isinstance(kwargs, dict) ?  <br>"
      ]
    },
    {
      "cell_type": "markdown",
      "metadata": {
        "id": "3sZp5ee7YjGh"
      },
      "source": [
        "#### <mark> Type your answer here </mark>\n",
        "-\n",
        "-\n",
        "-\n",
        "***"
      ]
    },
    {
      "cell_type": "markdown",
      "metadata": {
        "id": "_B6nQ01HYjGh"
      },
      "source": [
        "#### <p style=\"font-family: Arial; font-size:1.4em; background-color: yellow; color:black;\"> Problem #5.6 </p>\n",
        "\n",
        "####  Call the function myFun( ) with the following code\n",
        "``` myFun(mid ='Community', last='College', first ='California') ```\n",
        "\n",
        "#### And explain the output. Was output printed from \"first\" key value or \"mid\" key value?\n"
      ]
    },
    {
      "cell_type": "code",
      "execution_count": null,
      "metadata": {
        "id": "Kta3g0vvYjGh"
      },
      "outputs": [],
      "source": [
        "def myFun(**kwargs):\n",
        "\tfor key, value in kwargs.items():\n",
        "\t\tprint (\"%s -> %s\" %(key, value))\n",
        "\n",
        "myFun( # Complete yout code )\n"
      ]
    },
    {
      "cell_type": "markdown",
      "metadata": {
        "id": "gOg4M4JkYjGh"
      },
      "source": [
        "#### <mark> Type your answer here </mark>\n",
        "-\n",
        "-\n",
        "-\n",
        "***"
      ]
    },
    {
      "cell_type": "markdown",
      "metadata": {
        "id": "Or_gaxeHYjGh"
      },
      "source": [
        "## Call function with the single value and keyword argument\n",
        "```\n",
        "myFun( normalvalue, **keyword_argument)\n",
        "```"
      ]
    },
    {
      "cell_type": "code",
      "execution_count": null,
      "metadata": {
        "id": "k5oilPFXYjGh"
      },
      "outputs": [],
      "source": [
        "def myFun(first, **kwargs):\n",
        "\tprint (first)\n",
        "\tfor key, value in kwargs.items():\n",
        "\t\tprint (\"%s -> %s\" %(key, value))\n",
        "\n",
        "# call myfun() with separate key=value pairs\n",
        "myFun('Apple', mid ='Pear', last='Orange')\n",
        "\n",
        "# Or\n",
        "kwargs = {'mid':'Pear', 'last':'Orange'}\n",
        "myFun('Apple',**kwargs)\n",
        "\n"
      ]
    },
    {
      "cell_type": "markdown",
      "metadata": {
        "id": "Yl91UBw-YjGi"
      },
      "source": [
        "#### <p style=\"font-family: Arial; font-size:1.4em; background-color: yellow; color:black;\"> Problem #5.7 </p>\n",
        "\n",
        "####  Call the function myFun( ) with the following code\n",
        "```\n",
        "\t# Call 1\n",
        "\tmyFun(\"Java\", \"C++\", \"Python\")\n",
        "\tmyFun(arg2=\"C++\", arg3=\"Python\", arg1=\"Java\")\n",
        "\n",
        "\t# Call 2\n",
        "\targs = (\"Java\", \"C++\", \"Python\")\n",
        "\tmyFun(*args)\n",
        "\n",
        "\t# Call 3\n",
        "\tkwargs = {\"arg1\" : \"Java\", \"arg2\" : \"C++\", \"arg3\" : \"Python\"}\n",
        "\tmyFun(**kwargs)\n",
        "```\n",
        "#### And explain the output. All outputs are same?\n"
      ]
    },
    {
      "cell_type": "markdown",
      "metadata": {
        "id": "KVnNiSLiYjGi"
      },
      "source": [
        "## Call function(a, b, c) with\n",
        "- normal value argument: -----   function(arg1, arg2, arg3)\n",
        "- arbitrary argument:-----       function(*args)\n",
        "- keyword argument:-----         function(**kargs)\n",
        "```\n",
        "def myFun( a, b, c):\n",
        "```"
      ]
    },
    {
      "cell_type": "code",
      "execution_count": null,
      "metadata": {
        "id": "QZlrLcFdYjGi"
      },
      "outputs": [],
      "source": [
        "def myFun(arg1, arg2, arg3):\n",
        "\tprint(\"arg1:\", arg1, end='\\t')\n",
        "\tprint(\"arg2:\", arg2, end='\\t')\n",
        "\tprint(\"arg3:\", arg3, end='\\n')\n",
        "\n",
        "def main():\n",
        "\t# Call 1\n",
        "\tmyFun(\"Java\", \"C++\", \"Python\")\n",
        "\tmyFun(arg2=\"C++\", arg3=\"Python\", arg1=\"Java\")\n",
        "\n",
        "\t# Call 2\n",
        "\targs = (\"Java\", \"C++\", \"Python\")\n",
        "\tmyFun(*args)\n",
        "\t# Call 3\n",
        "\tkwargs = {\"arg1\" : \"Java\", \"arg2\" : \"C++\", \"arg3\" : \"Python\"}\n",
        "\tmyFun(**kwargs)\n",
        "\n",
        "\n",
        "if __name__ == '__main__':\n",
        "    main()\n",
        ""
      ]
    },
    {
      "cell_type": "markdown",
      "metadata": {
        "id": "-DZP7mRaYjGi"
      },
      "source": [
        "#### <mark> Type your answer here </mark>\n",
        "\n",
        "### All the output are same? Why? Explain it.\n",
        "-\n",
        "-\n",
        "-\n",
        "\n",
        "***"
      ]
    },
    {
      "cell_type": "markdown",
      "metadata": {
        "id": "9nSii5cuYjGi"
      },
      "source": [
        "## Other usefule expressions with arbitarary argument\n",
        "\n",
        "#### Run the followig code cells and learn the arbitrary argument"
      ]
    },
    {
      "cell_type": "markdown",
      "metadata": {
        "id": "F0jPpzGnYjGi"
      },
      "source": [
        "<style>\n",
        "\tp {\n",
        "\t\t--background-color: grey;\n",
        "\t\tcolor: white;\n",
        "\t\tborder: 3px solid grey\n",
        "\n",
        "\t}\n",
        "</style>\n",
        "\n",
        "<p> Using the arbitrary arguments to save the returned value</p>\n",
        "\n"
      ]
    },
    {
      "cell_type": "code",
      "execution_count": null,
      "metadata": {
        "id": "kfDm-Gz3YjGi"
      },
      "outputs": [],
      "source": [
        "def retEven(lst):\n",
        "\tevenlst = []\n",
        "\tfor v in lst:\n",
        "\t\tif v % 2 == 0:\n",
        "\t\t\tevenlst.append(v)\n",
        "\treturn evenlst\n",
        "\n",
        "lst = [1,2,3,4,5,6]\n",
        "first, *others, last = retEven(lst)\n",
        "print (first)\n",
        "print (last)\n",
        "print (others)\n"
      ]
    },
    {
      "cell_type": "markdown",
      "metadata": {
        "id": "CScOan_mYjGj"
      },
      "source": [
        "<style>\n",
        "\th1 {\n",
        "\t\tbackground-color: grey;\n",
        "\t\tcolor: Yellow;\n",
        "\t\tborder: 3px solid grey;\n",
        "\t\t-- font-size: xx-large;\n",
        "\t}\n",
        "\tp {\n",
        "\t\tbackground-color: grey;\n",
        "\t\tcolor: white;\n",
        "\t\tborder: 3px solid grey;\n",
        "\t\tfont-size: xx-large\n",
        "\t}\n",
        "</style>\n",
        "<p> Example: *args </p>\n"
      ]
    },
    {
      "cell_type": "code",
      "execution_count": null,
      "metadata": {
        "id": "0oBvCdkVYjGj",
        "outputId": "c5e18b3b-01e5-4eaa-a231-12d6da60bbd1"
      },
      "outputs": [
        {
          "name": "stdout",
          "output_type": "stream",
          "text": [
            "('Python Programming',)\n",
            "The value v is  Python Programming \tThe type of v is  <class 'str'>\n",
            "\n",
            "([1, 2, 3, 4, 5],)\n",
            "The value v is  [1, 2, 3, 4, 5] \tThe type of v is  <class 'list'>\n",
            "\n",
            "(1, 2, 3, 4, 5)\n",
            "The value v is  1 \tThe type of v is  <class 'int'>\n",
            "The value v is  2 \tThe type of v is  <class 'int'>\n",
            "The value v is  3 \tThe type of v is  <class 'int'>\n",
            "The value v is  4 \tThe type of v is  <class 'int'>\n",
            "The value v is  5 \tThe type of v is  <class 'int'>\n",
            "\n"
          ]
        }
      ],
      "source": [
        "\n",
        "def printstring(*string):\n",
        "\tprint (string)\n",
        "\tfor v in string:\n",
        "\t\tprint ('The value v is ', v, '\\tThe type of v is ', type(v) )\n",
        "\n",
        "\tprint ()\n",
        "\n",
        "stringvalue = \"Python Programming\"\n",
        "printstring(stringvalue)\n",
        "\n",
        "integerlist = [1,2,3,4,5]\n",
        "printstring(integerlist)\n",
        "\n",
        "printstring(1,2,3,4,5)"
      ]
    },
    {
      "cell_type": "markdown",
      "metadata": {
        "id": "HPaIL18IYjGj"
      },
      "source": [
        "## Please <font color='red'> **\"commit\"** </font> your work or <font color='red'> **\"save\"** </font> in Google Colab\n",
        "## before moving to the next section."
      ]
    },
    {
      "cell_type": "markdown",
      "metadata": {
        "id": "TtB7NgKHYjGj"
      },
      "source": [
        "***\n",
        "# <p style=\"background-color: grey; color: white \"> ◼️  Section 6 </p>\n",
        "# <p style=\"font-family: Arial; font-size:1.4em;color:red;\"> 6. Yield </p>\n"
      ]
    },
    {
      "cell_type": "markdown",
      "metadata": {
        "id": "bs-FzPuYYjGj"
      },
      "source": [
        "<style>\n",
        "\th1 {\n",
        "\t\tbackground-color: grey;\n",
        "\t\tcolor: Yellow;\n",
        "\t\tborder: 3px solid grey;\n",
        "\t\t-- font-size: xx-large;\n",
        "\t}\n",
        "\tp {\n",
        "\t\tbackground-color: grey;\n",
        "\t\tcolor: white;\n",
        "\t\tborder: 3px solid grey;\n",
        "\t}\n",
        "</style>\n",
        "<h1 font-size:40px> 6.1 iterator </h1>\n",
        "\n"
      ]
    },
    {
      "cell_type": "markdown",
      "metadata": {
        "id": "7Crqht6uYjGk"
      },
      "source": [
        "## Understanding Iterator\n",
        "\n",
        "#### Run the followig code cells and learn the Iterator concept"
      ]
    },
    {
      "cell_type": "markdown",
      "metadata": {
        "id": "UsYLsMqZYjGk"
      },
      "source": [
        "<style>\n",
        "\th3 {\n",
        "\t\tbackground-color: black;\n",
        "\t\tcolor: white;\n",
        "\t\tborder: 1px solid grey;\n",
        "\t\tfont-size: 30px;\n",
        "\t}\n",
        "\tp {\n",
        "\t\tbackground-color: #336666;\n",
        "\t\tcolor: white;\n",
        "\t\tborder: 1px solid grey;\n",
        "\t\tfont-size: 24;\n",
        "\t}\n",
        "</style>\n",
        "\n",
        "<h3> Iterator </h3>\n",
        "<p>\n",
        "\n",
        "An iterator in Python is an object that enables you to traverse through a collection of elements, such as a list, tuple, or dictionary, one element at a time. It implements two main methods:\n",
        "```\n",
        "__iter__(): Returns the iterator object itself. This is required for an object to be an iterator.\n",
        "__next__(): Returns the next item from the collection. When there are no more items, it raises a StopIteration exception.\n",
        "```\n",
        "</p>"
      ]
    },
    {
      "cell_type": "markdown",
      "metadata": {
        "id": "Br6L9EIgYjGk"
      },
      "source": [
        "#### <p style=\"font-family: Arial; font-size:1.4em; background-color: yellow; color:black;\"> Problem #6.1 </p>\n",
        "\n",
        "<style>\n",
        "\tp {\n",
        "\t\tbackground-color: black;\n",
        "\t\tcolor: white;\n",
        "\t\tborder: 1px solid grey;\n",
        "\t\tfont-size: 30px;\n",
        "\t}\n",
        "</style>\n",
        "<p> Run the following code cells and answer the questions </p>  \n"
      ]
    },
    {
      "cell_type": "markdown",
      "metadata": {
        "id": "lAYbzTHeYjGk"
      },
      "source": [
        "#### What is the type of \"myiter\"?\n",
        "- Your answer: 👉"
      ]
    },
    {
      "cell_type": "code",
      "execution_count": null,
      "metadata": {
        "id": "yGJnmO09YjGk"
      },
      "outputs": [],
      "source": [
        "mylst = [10, 20, 30]\n",
        "myiter = iter(mylst)\n",
        "\n",
        "type(myiter)"
      ]
    },
    {
      "cell_type": "markdown",
      "metadata": {
        "id": "vc5YGkPQYjGk"
      },
      "source": [
        "#### What is the result of the following code?\n",
        "``` myiter.__next__() ```\n",
        "- Your answer: Here 👉"
      ]
    },
    {
      "cell_type": "code",
      "execution_count": null,
      "metadata": {
        "id": "VQiIsq8DYjGk"
      },
      "outputs": [],
      "source": [
        "myiter.__next__()"
      ]
    },
    {
      "cell_type": "markdown",
      "metadata": {
        "id": "krc2PG68YjGl"
      },
      "source": [
        "#### What is the result of the following code?\n",
        "```\n",
        "    myiter.__next__()  \n",
        "    myiter.__next__()\n",
        "```\n",
        "- Your answer: Here 👉"
      ]
    },
    {
      "cell_type": "code",
      "execution_count": null,
      "metadata": {
        "id": "V6x8qcx0YjGl"
      },
      "outputs": [],
      "source": [
        "print (myiter.__next__())\n",
        "print (myiter.__next__())"
      ]
    },
    {
      "cell_type": "markdown",
      "metadata": {
        "id": "4qNFXNZdYjGl"
      },
      "source": [
        "#### If you run this code one more, you will see error. Show the error message. Why does it cause an error?\n",
        "```\n",
        "    myiter.__next__()  \n",
        "```\n",
        "- Your answer: Here  👉"
      ]
    },
    {
      "cell_type": "code",
      "execution_count": null,
      "metadata": {
        "id": "pT77GI9QYjGl"
      },
      "outputs": [],
      "source": [
        "print (myiter.__next__())"
      ]
    },
    {
      "cell_type": "markdown",
      "metadata": {
        "id": "fexdSGc8YjGl"
      },
      "source": [
        "#### next() function is the same as ``` __next__() ```\n",
        "```\n",
        "    iter_obj = iter(mylst)\n",
        "    next(iter_obj)\n",
        "```"
      ]
    },
    {
      "cell_type": "code",
      "execution_count": null,
      "metadata": {
        "id": "RRM3Xz-aYjGm"
      },
      "outputs": [],
      "source": [
        "mylst = [1,2,3]\n",
        "itobj= iter(mylst)\n",
        "print (next(itobj))\n",
        "print (next(itobj))\n",
        "print (next(itobj))"
      ]
    },
    {
      "cell_type": "markdown",
      "metadata": {
        "id": "T9eUIHG6YjGm"
      },
      "source": [
        "***\n",
        "#### <p style=\"font-family: Arial; font-size:1.4em; background-color: yellow; color:black;\"> Problem #6.2: Loop Structures with Iterator </p>\n",
        "\n",
        "<style>\n",
        "\tp {\n",
        "\t\tbackground-color: black;\n",
        "\t\tcolor: white;\n",
        "\t\tborder: 1px solid grey;\n",
        "\t\tfont-size: 30px;\n",
        "\t}\n",
        "</style>\n",
        "<p> Run the following code cells and answer the questions </p>  \n"
      ]
    },
    {
      "cell_type": "markdown",
      "metadata": {
        "id": "LR2q1H4BYjGm"
      },
      "source": [
        "#### Compare two loop structures with iterator, for loop and while loop."
      ]
    },
    {
      "cell_type": "markdown",
      "metadata": {
        "id": "pe5JYxxTYjGm"
      },
      "source": [
        "<style>\n",
        "\th5 {\n",
        "\t\tbackground-color: black;\n",
        "\t\tcolor: white;\n",
        "\t\tborder: 1px solid grey;\n",
        "\t\tfont-size: 30px;\n",
        "\t}\n",
        "\tp {\n",
        "\t\tbackground-color: #336666;\n",
        "\t\tcolor: white;\n",
        "\t\tborder: 1px solid grey;\n",
        "\t\tfont-size: 24;\n",
        "\t}\n",
        "</style>\n",
        "##### for loop\n",
        "<p>\n",
        "Using Iterators in Loops <br>\n",
        "Most commonly, you use iterators in a for loop, which automatically handles the StopIteration exception:\n",
        "</p>"
      ]
    },
    {
      "cell_type": "code",
      "execution_count": null,
      "metadata": {
        "id": "Qw_Rk4WRYjGm",
        "outputId": "a6a271a0-2977-4f02-c376-9c516748a183"
      },
      "outputs": [
        {
          "name": "stdout",
          "output_type": "stream",
          "text": [
            "10\t20\t30\t"
          ]
        }
      ],
      "source": [
        "mylst = [10, 20 , 30]\n",
        "myiter = iter(mylst)\n",
        "for v in myiter:\n",
        "    print (v, end='\\t')"
      ]
    },
    {
      "cell_type": "markdown",
      "metadata": {
        "id": "4LaYvPNeYjGm"
      },
      "source": [
        "<style>\n",
        "\th5 {\n",
        "\t\tbackground-color: black;\n",
        "\t\tcolor: white;\n",
        "\t\tborder: 1px solid grey;\n",
        "\t\tfont-size: 30px;\n",
        "\t}\n",
        "\tp {\n",
        "\t\tbackground-color: #336666;\n",
        "\t\tcolor: white;\n",
        "\t\tborder: 1px solid grey;\n",
        "\t\tfont-size: 24;\n",
        "\t}\n",
        "</style>\n",
        "##### while loop"
      ]
    },
    {
      "cell_type": "code",
      "execution_count": null,
      "metadata": {
        "id": "1ahW5hBCYjGn",
        "outputId": "916f3665-c74a-4792-f238-ed62c0382724"
      },
      "outputs": [
        {
          "name": "stdout",
          "output_type": "stream",
          "text": [
            "10\t20\t30\t"
          ]
        }
      ],
      "source": [
        "mylst = [10, 20, 30]\n",
        "iter_obj = iter(mylst)\n",
        "while True:\n",
        "    try:\n",
        "        print (next(iter_obj), end= '\\t')\n",
        "    except StopIteration:\n",
        "        break\n"
      ]
    },
    {
      "cell_type": "markdown",
      "metadata": {
        "id": "FuZ53-oZYjGn"
      },
      "source": [
        "### Compare two loop structures. What is the difference between two loops to use the iterator for traversing all the elements in the list?\n",
        "#### Your Answer: Here 👉"
      ]
    },
    {
      "cell_type": "markdown",
      "metadata": {
        "id": "1UGk7OikYjGn"
      },
      "source": [
        "***"
      ]
    },
    {
      "cell_type": "markdown",
      "metadata": {
        "id": "PZMv-_pfYjGo"
      },
      "source": [
        "<style>\n",
        "\th1 {\n",
        "\t\tbackground-color: grey;\n",
        "\t\tcolor: Yellow;\n",
        "\t\tborder: 3px solid grey;\n",
        "\t\tfont-size: xx-large;\n",
        "\t}\n",
        "\tp {\n",
        "\t\tbackground-color: grey;\n",
        "\t\tcolor: white;\n",
        "\t\tfont-size: 24px;\n",
        "\t\tborder: 3px solid grey;\n",
        "\t}\n",
        "</style>\n",
        "# <h1 font-size:40px> 6.2 Generator </h1>\n",
        "\n",
        "\n",
        "## Concepts of Generator\n",
        "<p>\n",
        "A generator in Python is a special type of iterator that allows you to iterate over a sequence of values lazily, meaning it generates values on the fly and only when needed. <br> This makes generators memory-efficient, especially when dealing with large datasets, because they do not require all the values to be stored in memory at once.\n",
        "</p>"
      ]
    },
    {
      "cell_type": "markdown",
      "metadata": {
        "id": "N-DwgZ1IYjGo"
      },
      "source": [
        "***\n",
        "#### <p style=\"font-family: Arial; font-size:1.4em; background-color: yellow; color:black;\"> Problem #6.3 </p>\n",
        "\n",
        "<style>\n",
        "\tp {\n",
        "\t\tbackground-color: black;\n",
        "\t\tcolor: white;\n",
        "\t\tborder: 1px solid grey;\n",
        "\t\tfont-size: 30px;\n",
        "\t}\n",
        "</style>\n",
        "<p> Run the following code cells and answer the questions </p>  \n"
      ]
    },
    {
      "cell_type": "markdown",
      "metadata": {
        "id": "hxLPt86mYjGo"
      },
      "source": [
        "#### Run this code and check out the output. Show the type of \"gen\"\n",
        "```\n",
        "def mygen():\n",
        "    yield 1\n",
        "\n",
        "gen = mygen()\n",
        "print (type(gen))\n",
        "```\n",
        "##### Your answer: Here 👉\n",
        "\n",
        "\n",
        "***"
      ]
    },
    {
      "cell_type": "markdown",
      "metadata": {
        "id": "4kK5oqnnYjGo"
      },
      "source": [
        "#### Run this code and check out the output. What are the value from \"next(gen)\"?\n",
        "```\n",
        "def mygen():\n",
        "    yield 10\n",
        "    yield 20\n",
        "    yield 30\n",
        "\n",
        "gen = mygen()\n",
        "print (next(gen))\n",
        "print (next(gen))\n",
        "print (next(gen))\n",
        "```\n",
        "##### Your answer: Here 👉\n",
        "\n",
        "\n",
        "***"
      ]
    },
    {
      "cell_type": "markdown",
      "metadata": {
        "id": "NN1-8SgfYjGo"
      },
      "source": [
        "#### Run this code and check out the output. What are the value from \"next(gen)\"?\n",
        "```\n",
        "def mygen():\n",
        "    yield 10\n",
        "    yield 20\n",
        "    yield 30\n",
        "\n",
        "gen = mygen()\n",
        "for v in gen:\n",
        "    print (v, end='\\t')\n",
        "```\n",
        "##### Your answer: Here 👉\n",
        "\n",
        "\n",
        "***"
      ]
    },
    {
      "cell_type": "markdown",
      "metadata": {
        "id": "p839_yRpYjGo"
      },
      "source": [
        "#### Run this code and check out the output. What is the value of the last next(gen) ?\n",
        "```\n",
        "def mygen():\n",
        "    yield 10\n",
        "    yield 20\n",
        "    yield 30\n",
        "\n",
        "gen = mygen()\n",
        "while True:\n",
        "    try:\n",
        "        print (next(gen))\n",
        "    except StopIteration:\n",
        "        break\n",
        "```\n",
        "##### Your answer: Here 👉\n",
        "\n",
        "\n",
        "***"
      ]
    },
    {
      "cell_type": "markdown",
      "metadata": {
        "id": "zUGvJ-gZYjGp"
      },
      "source": [
        "<style>\n",
        "\th1 {\n",
        "\t\tbackground-color: grey;\n",
        "\t\tcolor: Yellow;\n",
        "\t\tborder: 3px solid grey;\n",
        "\t\tfont-size: xx-large;\n",
        "\t}\n",
        "\tp {\n",
        "\t\tbackground-color: grey;\n",
        "\t\tcolor: white;\n",
        "\t\tfont-size: 24px;\n",
        "\t\tborder: 3px solid grey;\n",
        "\t}\n",
        "</style>\n",
        "# <h1 font-size:40px> 6.3 yield </h1>\n",
        "\n",
        "\n",
        "## yield statement\n",
        "<p>\n",
        "yield is a keyword used in a function to turn it into a generator. When a function contains a yield statement, it does not execute like a normal function. Instead, it returns a generator object that can be iterated over.\n",
        "</p>"
      ]
    },
    {
      "cell_type": "markdown",
      "metadata": {
        "id": "pwrMvYTiYjGp"
      },
      "source": [
        "***\n",
        "#### <p style=\"font-family: Arial; font-size:1.4em; background-color: yellow; color:black;\"> Problem #6.4 </p>\n",
        "\n",
        "<style>\n",
        "\tp {\n",
        "\t\tbackground-color: black;\n",
        "\t\tcolor: white;\n",
        "\t\tborder: 1px solid grey;\n",
        "\t\tfont-size: 30px;\n",
        "\t}\n",
        "</style>\n",
        "<p> Run the following code cells and answer the questions </p>  \n"
      ]
    },
    {
      "cell_type": "markdown",
      "metadata": {
        "id": "CpKdgZF1YjGp"
      },
      "source": [
        "<style>\n",
        "\tp {\n",
        "\t\t--background-color: grey;\n",
        "\t\tcolor: white;\n",
        "\t\tborder: 3px solid grey\n",
        "\n",
        "\t}\n",
        "</style>\n",
        "\n",
        "<p> Example of yield statement </p>\n",
        "<p> Make a function to return the even number in the list </p>\n",
        "\n"
      ]
    },
    {
      "cell_type": "code",
      "execution_count": null,
      "metadata": {
        "id": "LFxuCpe6YjGp"
      },
      "outputs": [],
      "source": [
        "def findEvenNumber(lst):\n",
        "\tfor v in lst:\n",
        "\t\tif ( v % 2 == 0):\n",
        "\t\t\tyield v\n",
        "\n",
        "def main():\n",
        "\tmygen = findEvenNumber(range(10))\n",
        "\tval = next(mygen)\n",
        "\tprint (val, '--')\n",
        "\tfor val in mygen:\n",
        "\t\tprint (val)\n",
        "\n",
        "if __name__ == '__main__':\n",
        "\tmain()"
      ]
    },
    {
      "cell_type": "markdown",
      "metadata": {
        "id": "DC0vrAqVYjGp"
      },
      "source": [
        "<style>\n",
        "\tp {\n",
        "\t\t--background-color: grey;\n",
        "\t\tcolor: white;\n",
        "\t\tborder: 3px solid grey\n",
        "\n",
        "\t}\n",
        "</style>\n",
        "\n",
        "<p> Make a function to return the generator for the Fibonacci number </p>\n",
        "\n"
      ]
    },
    {
      "cell_type": "code",
      "execution_count": null,
      "metadata": {
        "id": "Q5h35uduYjGq"
      },
      "outputs": [],
      "source": [
        "\n",
        "def fibo(N):\n",
        "\tn1, n2 = 0, 1\n",
        "\ti = 0\n",
        "\twhile ( i <= N):\n",
        "\t\tyield n1\n",
        "\t\tn3 = n1 + n2\n",
        "\t\tn1 = n2\n",
        "\t\tn2 = n3\n",
        "\t\ti += 1\n",
        "\n",
        "gen = fibo(1)\n",
        "for v in gen:\n",
        "\tprint (v)\n"
      ]
    },
    {
      "cell_type": "markdown",
      "metadata": {
        "id": "t_cL4YUdYjGq"
      },
      "source": [
        "<style>\n",
        "\th1 {\n",
        "\t\tbackground-color: grey;\n",
        "\t\tcolor: Yellow;\n",
        "\t\tborder: 3px solid grey;\n",
        "\t\t-- font-size: xx-large;\n",
        "\t}\n",
        "\tp {\n",
        "\t\tbackground-color: grey;\n",
        "\t\tcolor: white;\n",
        "\t\tborder: 3px solid grey;\n",
        "\t\tfont-size: xx-large\n",
        "\t}\n",
        "</style>\n",
        "<p> Example: yield </p>\n"
      ]
    },
    {
      "cell_type": "code",
      "execution_count": null,
      "metadata": {
        "id": "hv7ctvBSYjGq"
      },
      "outputs": [],
      "source": [
        "\n",
        "def consonant(string):\n",
        "\tvowels = ['a', 'e', 'i','o', 'u']\n",
        "\tfor v in string:\n",
        "\t\tif v not in vowels:\n",
        "\t\t\tyield v\n",
        "\n",
        "\n",
        "strval = 'Python Programming'\n",
        "for v in consonant(strval):\n",
        "\tprint (v, end=', ' )"
      ]
    },
    {
      "cell_type": "markdown",
      "metadata": {
        "id": "jLECaAANYjGq"
      },
      "source": [
        "<style>\n",
        "\tp {\n",
        "\t\tbackground-color: black;\n",
        "\t\tcolor: white;\n",
        "\t\tborder: 1px solid grey;\n",
        "\t\tfont-size: 30px;\n",
        "\t}\n",
        "</style>\n",
        "#### <p style=\"font-family: Arial; font-size:1.4em; background-color: yellow; color:black;\"> Problem #6.5 </p>\n",
        "\n",
        "<p> Make a function to return the generator containing the first half of the list\n"
      ]
    },
    {
      "cell_type": "code",
      "execution_count": null,
      "metadata": {
        "id": "IoRCk6fqYjGq"
      },
      "outputs": [],
      "source": [
        "def halfoflist(mylst):\n",
        "    # complete your code\n",
        "    # return the generator that contains the first half of the list\n",
        "\n",
        "def main():\n",
        "    numbers = [1,2,3,4,5,6,7,8,9,10]\n",
        "    mygen = halfoflist(numbers)\n",
        "\n",
        "    for v in mygen:\n",
        "        print (v, end ='\\t')\n",
        "\n",
        "if __name__ == '__main__':\n",
        "    main()\n"
      ]
    },
    {
      "cell_type": "markdown",
      "metadata": {
        "id": "1yz2Ry-zYjGr"
      },
      "source": [
        "***\n",
        "#### <p style=\"font-family: Arial; font-size:1.4em; background-color: yellow; color:black;\"> Problem #6.6 </p>\n",
        "\n",
        "<style>\n",
        "\tp {\n",
        "\t\tbackground-color: black;\n",
        "\t\tcolor: white;\n",
        "\t\tborder: 1px solid grey;\n",
        "\t\tfont-size: 30px;\n",
        "\t}\n",
        "</style>\n",
        "<p> Make a function that returns the generator containing elements greater than their immediate left. </p>\n",
        "- Example numbers = [1, 3, 2, 4, 5, 0] <br>\n",
        "- Generator for [3,4,5]\n"
      ]
    },
    {
      "cell_type": "code",
      "execution_count": null,
      "metadata": {
        "id": "1rbL9dzUYjGr"
      },
      "outputs": [],
      "source": [
        "### Code your program here"
      ]
    },
    {
      "cell_type": "markdown",
      "metadata": {
        "id": "4ZKyRSBjYjGr"
      },
      "source": [
        "<style>\n",
        "\th1 {\n",
        "\t\tbackground-color: grey;\n",
        "\t\tcolor: Yellow;\n",
        "\t\tborder: 3px solid grey;\n",
        "\t\tfont-size: 60px;\n",
        "\t}\n",
        "\tp {\n",
        "\t\tbackground-color: grey;\n",
        "\t\tcolor: white;\n",
        "\t\tfont-size: 20px;\n",
        "\t\tborder: 3px solid grey;\n",
        "\t}\n",
        "</style>\n",
        "# <h1 font-size:60px> 6.4 lambda </h1>\n",
        "\n",
        "\n",
        "## Lambda Function\n",
        "<p>\n",
        "A lambda function in Python is a small, anonymous function defined with the lambda keyword. Unlike a regular function that is defined using the def keyword, a lambda function can have any number of arguments but only one expression. The result of that expression is implicitly returned.\n",
        "</p>\n",
        "\n",
        "Syntax <br>\n",
        "<code>\n",
        "lambda arguments: expression <br>\n",
        "\n",
        "Code Example: <br>\n",
        "<code>\n",
        "add_ten = lambda x: x + 10 <br>\n",
        "print(add_ten(5))  # Output: 15\n"
      ]
    },
    {
      "cell_type": "markdown",
      "metadata": {
        "id": "yVNTogTLYjGr"
      },
      "source": [
        "***\n",
        "<style>\n",
        "\tp {\n",
        "\t\tbackground-color: black;\n",
        "\t\tcolor: white;\n",
        "\t\tborder: 1px solid grey;\n",
        "\t\tfont-size: 30px;\n",
        "\t}\n",
        "</style>\n",
        "<p> Run the following code cells and check out the results </p>  \n"
      ]
    },
    {
      "cell_type": "markdown",
      "metadata": {
        "id": "UhhcbVnBYjGr"
      },
      "source": [
        "#### Lambda Function Example: Add 10"
      ]
    },
    {
      "cell_type": "code",
      "execution_count": null,
      "metadata": {
        "id": "hbIF8lECYjGr",
        "outputId": "2d025da3-ec07-4c63-d854-9a5315fc5bb6"
      },
      "outputs": [
        {
          "name": "stdout",
          "output_type": "stream",
          "text": [
            "30\n"
          ]
        }
      ],
      "source": [
        "\n",
        "lfn = lambda x : x + 10\n",
        "\n",
        "a = lfn(20)\n",
        "print (a)"
      ]
    },
    {
      "cell_type": "markdown",
      "metadata": {
        "id": "szLKAoloYjGs"
      },
      "source": [
        "### Lambda that returns x squared"
      ]
    },
    {
      "cell_type": "code",
      "execution_count": null,
      "metadata": {
        "id": "Uzcm_LEgYjGs"
      },
      "outputs": [],
      "source": [
        "squared = lambda x : x * x\n",
        "\n",
        "print (squared(10))"
      ]
    },
    {
      "cell_type": "markdown",
      "metadata": {
        "id": "3WzQkb99YjGs"
      },
      "source": [
        "### Lambda that returns a boolean as a result of x > y"
      ]
    },
    {
      "cell_type": "code",
      "execution_count": null,
      "metadata": {
        "id": "L-4dYCioYjGs"
      },
      "outputs": [],
      "source": [
        "greater = lambda x, y : x > y\n",
        "\n",
        "print (greater(10, 20))\n",
        "print (greater(20, 10))\n"
      ]
    },
    {
      "cell_type": "markdown",
      "metadata": {
        "id": "ND6xtAvnYjGs"
      },
      "source": [
        "### Function that returns a lambda"
      ]
    },
    {
      "cell_type": "code",
      "execution_count": null,
      "metadata": {
        "id": "xAb09WDsYjGt"
      },
      "outputs": [],
      "source": [
        "def retlam( value):\n",
        "\treturn lambda parameter : parameter * value\n",
        "\n",
        "mylambda = retlam(10)\n",
        "print (mylambda(20))\n",
        "\n",
        "mylambda = retlam(20)\n",
        "print (mylambda(20))"
      ]
    },
    {
      "cell_type": "markdown",
      "metadata": {
        "id": "0rLZFLDWYjGt"
      },
      "source": [
        "### Lambda Examples"
      ]
    },
    {
      "cell_type": "code",
      "execution_count": null,
      "metadata": {
        "id": "LnvWLNB3YjGt"
      },
      "outputs": [],
      "source": [
        "import random\n",
        "\n",
        "lst = [ random.randint(0,100) for i in range(5)]\n",
        "print (lst)\n",
        "\n",
        "fmin = lambda x : (v for v in x if v > 50)\n",
        "\n",
        "for v in fmin(lst):\n",
        "\tprint (v)"
      ]
    },
    {
      "cell_type": "code",
      "execution_count": null,
      "metadata": {
        "id": "M0JdbTlEYjGt"
      },
      "outputs": [],
      "source": [
        "gr = lambda x,y: x if x > y else y\n",
        "print (gr(10,20))\n"
      ]
    },
    {
      "cell_type": "code",
      "execution_count": null,
      "metadata": {
        "id": "N9cyMpa1YjGt"
      },
      "outputs": [],
      "source": [
        "total = 0\n",
        "def addValue(value):\n",
        "\tglobal total\n",
        "\ttotal += value\n",
        "\treturn total\n",
        "def subtractValue(value):\n",
        "\tglobal total\n",
        "\ttotal -= value\n",
        "\treturn total\n",
        "\n",
        "mylambda = lambda x, f: f(x)\n",
        "\n",
        "\n",
        "print (mylambda(10, addValue))\n",
        "print (mylambda(5, subtractValue))\n",
        "\n"
      ]
    },
    {
      "cell_type": "markdown",
      "metadata": {
        "id": "spVvZ9NPYjGu"
      },
      "source": [
        "***\n",
        "#### <p style=\"font-family: Arial; font-size:1.4em; background-color: yellow; color:black;\"> Problem #6.7 </p>\n",
        "\n",
        "<style>\n",
        "\tp {\n",
        "\t\tbackground-color: black;\n",
        "\t\tcolor: white;\n",
        "\t\tborder: 1px solid grey;\n",
        "\t\tfont-size: 30px;\n",
        "\t}\n",
        "</style>\n",
        "<p> Make a Lamba function that returns the average of the list element values </p>\n",
        "- Example numbers = [1, 3, 2, 4, 5, 0] <br>\n",
        "- listavg = getavg(numbers)  # It should be 2.5\n"
      ]
    },
    {
      "cell_type": "code",
      "execution_count": null,
      "metadata": {
        "id": "wyw-9_NvYjGu",
        "outputId": "32f2d3b1-27f3-446c-d184-56b8f76d30c4"
      },
      "outputs": [
        {
          "name": "stdout",
          "output_type": "stream",
          "text": [
            "2.5\n"
          ]
        }
      ],
      "source": [
        "# Complete your code Here. Lambda Function\n",
        "\n",
        "numbers = [1,2,3,4,5,6,7,8,9,10]\n",
        "result = getavg(numbers)\n",
        "print (result)"
      ]
    },
    {
      "cell_type": "markdown",
      "metadata": {
        "id": "UEclq0TbYjGu"
      },
      "source": [
        "***\n",
        "#### <p style=\"font-family: Arial; font-size:1.4em; background-color: yellow; color:black;\"> Problem #6.8 </p>\n",
        "\n",
        "<style>\n",
        "\tp {\n",
        "\t\tbackground-color: black;\n",
        "\t\tcolor: white;\n",
        "\t\tborder: 1px solid grey;\n",
        "\t\tfont-size: 30px;\n",
        "\t}\n",
        "</style>\n",
        "<p> Make a Lamba function that returns all the elment that are greater than the immediate right </p>\n",
        "- Example numbers = [1, 3, 2, 4, 5, 0] <br>\n",
        "- listavg = greaterRight(numbers)  # 3, 5\n"
      ]
    },
    {
      "cell_type": "code",
      "execution_count": null,
      "metadata": {
        "id": "MfWRRt_4YjGu"
      },
      "outputs": [],
      "source": [
        "getGreater = #### Complete your Lambda Function Here. Not Regular Function.\n",
        "\n",
        "numbers = [1,3,2,4,5,0]\n",
        "result = getGreater(numbers)\n",
        "print (result)"
      ]
    },
    {
      "cell_type": "markdown",
      "metadata": {
        "id": "J5r9MGdNYjGu"
      },
      "source": [
        "***\n",
        "#### <p style=\"font-family: Arial; font-size:1.4em; background-color: yellow; color:black;\"> Problem #6.9 </p>\n",
        "\n",
        "<style>\n",
        "\tp {\n",
        "\t\tbackground-color: black;\n",
        "\t\tcolor: white;\n",
        "\t\tborder: 1px solid grey;\n",
        "\t\tfont-size: 30px;\n",
        "\t}\n",
        "</style>\n",
        "<p> Make a Lamba function that recevies two lists and determine the longer list. Return the longer list </p>\n",
        "- Example n1 = [1, 3, 2, 4, 5, 0] n2 = [1,2,3]<br>\n",
        "- longerlst = compareTwoList(n1, n2)  # Return n1\n"
      ]
    },
    {
      "cell_type": "code",
      "execution_count": null,
      "metadata": {
        "id": "gO2JRktOYjGv",
        "outputId": "3ca0e972-186b-42b2-d70d-714fd2553b73"
      },
      "outputs": [
        {
          "name": "stdout",
          "output_type": "stream",
          "text": [
            "[1, 3, 2, 4, 5, 0]\n"
          ]
        }
      ],
      "source": [
        "compareTwoList = lambda ## Complete your code HERE\n",
        "\n",
        "n1 = [1,3,2,4,5,0]\n",
        "n2 = [1,2,3]\n",
        "\n",
        "longer = compareTwoList(n1, n2)\n",
        "print (longer)"
      ]
    }
  ],
  "metadata": {
    "kernelspec": {
      "display_name": "Python 3.9.13 ('base')",
      "language": "python",
      "name": "python3"
    },
    "language_info": {
      "codemirror_mode": {
        "name": "ipython",
        "version": 3
      },
      "file_extension": ".py",
      "mimetype": "text/x-python",
      "name": "python",
      "nbconvert_exporter": "python",
      "pygments_lexer": "ipython3",
      "version": "3.9.17"
    },
    "orig_nbformat": 4,
    "vscode": {
      "interpreter": {
        "hash": "32cd87c0c55905266dc8232ebf1148f668af0d9324249c125246585210a29cd6"
      }
    },
    "colab": {
      "provenance": []
    }
  },
  "nbformat": 4,
  "nbformat_minor": 0
}